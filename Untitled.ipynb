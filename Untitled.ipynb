{
 "cells": [
  {
   "cell_type": "code",
   "execution_count": null,
   "id": "3b644aef-4943-4e89-8b70-f74d5093ebd6",
   "metadata": {},
   "outputs": [],
   "source": []
  },
  {
   "cell_type": "code",
   "execution_count": null,
   "id": "4ca8802c-ba2d-43dc-b990-ee11075d3054",
   "metadata": {},
   "outputs": [],
   "source": []
  },
  {
   "cell_type": "code",
   "execution_count": null,
   "id": "851334a2-7c9c-4e8a-94bd-e4a1ed7a0058",
   "metadata": {},
   "outputs": [],
   "source": [
    "from sklearn.metrics import confusion_matrix\n",
    "\n",
    "# Generate the confusion matrix\n",
    "conf_matrix = confusion_matrix(y_test, y_pred)\n",
    "\n",
    "# Extract TP, FP, FN, TN\n",
    "TN, FP, FN, TP = conf_matrix.ravel()\n",
    "\n",
    "print(f\"True Positives: {TP}\")\n",
    "print(f\"False Positives: {FP}\")\n",
    "print(f\"False Negatives: {FN}\")\n",
    "print(f\"True Negatives: {TN}\")\n",
    "\n",
    "# Check false positive & false negative rate\n",
    "false_positive_rate = FP / (FP + TN)\n",
    "false_negative_rate = FN / (FN + TP)\n",
    "\n",
    "print(f\"False Positive Rate: {false_positive_rate:.2f}\")\n",
    "print(f\"False Negative Rate: {false_negative_rate:.2f}\")\n",
    "🔍 Step 3: SQL Approach (if you imported the data into MSSQL)\n"
   ]
  },
  {
   "cell_type": "code",
   "execution_count": null,
   "id": "edddc865-8999-4cda-832b-374a3c028517",
   "metadata": {},
   "outputs": [],
   "source": []
  }
 ],
 "metadata": {
  "kernelspec": {
   "display_name": "Python 3 (ipykernel)",
   "language": "python",
   "name": "python3"
  },
  "language_info": {
   "codemirror_mode": {
    "name": "ipython",
    "version": 3
   },
   "file_extension": ".py",
   "mimetype": "text/x-python",
   "name": "python",
   "nbconvert_exporter": "python",
   "pygments_lexer": "ipython3",
   "version": "3.11.9"
  }
 },
 "nbformat": 4,
 "nbformat_minor": 5
}
